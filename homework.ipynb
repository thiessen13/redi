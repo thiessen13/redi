{
 "cells": [
  {
   "cell_type": "code",
   "execution_count": null,
   "metadata": {},
   "outputs": [
    {
     "name": "stdout",
     "output_type": "stream",
     "text": [
      "Array: [  1   2   3   4   5   6   7   8   9  10  11  12  13  14  15  16  17  18\n",
      "  19  20  21  22  23  24  25  26  27  28  29  30  31  32  33  34  35  36\n",
      "  37  38  39  40  41  42  43  44  45  46  47  48  49  50  51  52  53  54\n",
      "  55  56  57  58  59  60  61  62  63  64  65  66  67  68  69  70  71  72\n",
      "  73  74  75  76  77  78  79  80  81  82  83  84  85  86  87  88  89  90\n",
      "  91  92  93  94  95  96  97  98  99 100]\n",
      "Shape: (100,)\n",
      "Mean value: 50.5\n",
      "Median value: 50.5\n",
      "Min value: 1\n",
      "Max value: 100\n",
      "First 5 elements: [1 2 3 4 5]\n",
      "Array after multiplying: [  2   4   6   8  10  12  14  16  18  20  22  24  26  28  30  32  34  36\n",
      "  38  40  42  44  46  48  50  52  54  56  58  60  62  64  66  68  70  72\n",
      "  74  76  78  80  82  84  86  88  90  92  94  96  98 100 102 104 106 108\n",
      " 110 112 114 116 118 120 122 124 126 128 130 132 134 136 138 140 142 144\n",
      " 146 148 150 152 154 156 158 160 162 164 166 168 170 172 174 176 178 180\n",
      " 182 184 186 188 190 192 194 196 198 200]\n"
     ]
    }
   ],
   "source": [
    "# Part 1, Exercise 4: Working with NumPy Arrays\n",
    "import numpy as np\n",
    "\n",
    "# Creating the NumPy array\n",
    "numbers = np.arange(1, 101)\n",
    "print(\"Array:\", numbers)\n",
    "\n",
    "# Printing the shape of the array\n",
    "print(\"Shape:\", numbers.shape)\n",
    "\n",
    "# Calculating and printing the mean, median, min and max values\n",
    "mean_value = np.mean(numbers)\n",
    "median_value = np.median(numbers)\n",
    "min_value = np.min(numbers)\n",
    "max_value = np.max(numbers)\n",
    "\n",
    "print(\"Mean value:\", mean_value)\n",
    "print(\"Median value:\", median_value)\n",
    "print(\"Min value:\", min_value)\n",
    "print(\"Max value:\", max_value)\n",
    "\n",
    "# Slicing the first 5 elements\n",
    "first_five = numbers[:5]\n",
    "print(\"First 5 elements:\", first_five)\n",
    "\n",
    "# Multiplying every element by 2\n",
    "doubled_numbers = numbers * 2\n",
    "print(\"Array after multiplying:\", doubled_numbers)"
   ]
  },
  {
   "cell_type": "code",
   "execution_count": null,
   "metadata": {},
   "outputs": [
    {
     "name": "stdout",
     "output_type": "stream",
     "text": [
      "Series:\n",
      "0    14\n",
      "1    42\n",
      "2    23\n",
      "3    17\n",
      "4    99\n",
      "dtype: int64\n"
     ]
    }
   ],
   "source": [
    "# Part 2, Exercise 0: Dataframe Basics\n",
    "import pandas as pd\n",
    "values = [14, 42, 23, 17, 99]\n",
    "series = pd.Series(values)\n",
    "print(\"Series:\")\n",
    "print(series)"
   ]
  },
  {
   "cell_type": "code",
   "execution_count": 4,
   "metadata": {},
   "outputs": [],
   "source": [
    "data = {\n",
    "    \"Variable A\": [3, 15, 45],\n",
    "    \"Variable B\": [0.1, 0.4, 0.2],\n",
    "    \"Variable C\": [True, True, False],\n",
    "    \"Variable D\": [\"blue\", \"red\", \"green\"],\n",
    "}\n"
   ]
  },
  {
   "cell_type": "code",
   "execution_count": 5,
   "metadata": {},
   "outputs": [
    {
     "name": "stdout",
     "output_type": "stream",
     "text": [
      "\n",
      "Data types:\n",
      "Variable A      int64\n",
      "Variable B    float64\n",
      "Variable C       bool\n",
      "Variable D     object\n",
      "dtype: object\n",
      "\n",
      "DataFrame:\n",
      "   Variable A  Variable B  Variable C Variable D\n",
      "0           3         0.1        True       blue\n",
      "1          15         0.4        True        red\n",
      "2          45         0.2       False      green\n"
     ]
    }
   ],
   "source": [
    "df = pd.DataFrame(data)\n",
    "print(\"\\nData types:\")\n",
    "print(df.dtypes)\n",
    "print(\"\\nDataFrame:\")\n",
    "print(df)"
   ]
  }
 ],
 "metadata": {
  "kernelspec": {
   "display_name": "Python 3",
   "language": "python",
   "name": "python3"
  },
  "language_info": {
   "codemirror_mode": {
    "name": "ipython",
    "version": 3
   },
   "file_extension": ".py",
   "mimetype": "text/x-python",
   "name": "python",
   "nbconvert_exporter": "python",
   "pygments_lexer": "ipython3",
   "version": "3.11.9"
  }
 },
 "nbformat": 4,
 "nbformat_minor": 2
}
